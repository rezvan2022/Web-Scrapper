{
 "cells": [
  {
   "cell_type": "code",
   "execution_count": 163,
   "metadata": {},
   "outputs": [],
   "source": [
    "from selenium import webdriver\n",
    "from webdriver_manager.chrome import ChromeDriverManager\n",
    "from selenium.webdriver.common.keys import Keys\n",
    "import time\n",
    "from selenium.webdriver.support.ui import Select\n",
    "from selenium.webdriver.common.action_chains import ActionChains\n",
    "from selenium.webdriver.common.by import By\n",
    "from selenium.webdriver.support import expected_conditions as EC\n",
    "\n",
    "\n",
    "\n"
   ]
  },
  {
   "cell_type": "code",
   "execution_count": 164,
   "metadata": {},
   "outputs": [
    {
     "name": "stderr",
     "output_type": "stream",
     "text": [
      "[WDM] - ====== WebDriver manager ======\n"
     ]
    },
    {
     "name": "stdout",
     "output_type": "stream",
     "text": [
      "\n"
     ]
    },
    {
     "name": "stderr",
     "output_type": "stream",
     "text": [
      "[WDM] - Current google-chrome version is 106.0.5249\n",
      "[WDM] - Get LATEST chromedriver version for 106.0.5249 google-chrome\n",
      "[WDM] - Driver [C:\\Users\\r.abdollahi\\.wdm\\drivers\\chromedriver\\win32\\106.0.5249.61\\chromedriver.exe] found in cache\n",
      "C:\\Users\\r.abdollahi\\AppData\\Local\\Temp\\ipykernel_11204\\318902541.py:1: DeprecationWarning: executable_path has been deprecated, please pass in a Service object\n",
      "  brower = webdriver.Chrome(ChromeDriverManager().install())\n"
     ]
    }
   ],
   "source": [
    "brower = webdriver.Chrome(ChromeDriverManager().install())\n",
    "brower.get('https://tradersarena.ir/extras/market-values')"
   ]
  },
  {
   "cell_type": "code",
   "execution_count": 165,
   "metadata": {},
   "outputs": [
    {
     "name": "stderr",
     "output_type": "stream",
     "text": [
      "C:\\Users\\r.abdollahi\\AppData\\Local\\Temp\\ipykernel_11204\\2623310473.py:1: DeprecationWarning: find_element_by_name is deprecated. Please use find_element(by=By.NAME, value=name) instead\n",
      "  user = brower.find_element_by_name('phone')\n",
      "C:\\Users\\r.abdollahi\\AppData\\Local\\Temp\\ipykernel_11204\\2623310473.py:4: DeprecationWarning: find_element_by_name is deprecated. Please use find_element(by=By.NAME, value=name) instead\n",
      "  password = brower.find_element_by_name('password')\n"
     ]
    }
   ],
   "source": [
    "user = brower.find_element_by_name('phone')\n",
    "user.send_keys(\"test\")\n",
    "#######\n",
    "password = brower.find_element_by_name('password')\n",
    "password.send_keys(\"test\")\n",
    "##########\n",
    "\n"
   ]
  },
  {
   "cell_type": "code",
   "execution_count": 166,
   "metadata": {},
   "outputs": [
    {
     "name": "stderr",
     "output_type": "stream",
     "text": [
      "C:\\Users\\r.abdollahi\\AppData\\Local\\Temp\\ipykernel_11204\\1281449071.py:1: DeprecationWarning: find_element_by_* commands are deprecated. Please use find_element() instead\n",
      "  table = brower.find_element_by_id('mwTable')\n"
     ]
    }
   ],
   "source": [
    "table = brower.find_element_by_id('mwTable')\n",
    "table1=table.get_attribute('innerText')\n",
    "table2=table1.splitlines()\n",
    "\n"
   ]
  },
  {
   "cell_type": "code",
   "execution_count": 167,
   "metadata": {},
   "outputs": [],
   "source": [
    "table3=['']*len(table2)\n",
    "len(table3)\n",
    "\n",
    "for i in range(743):\n",
    " table3[i]=table2[i].split('\\t')\n"
   ]
  },
  {
   "cell_type": "code",
   "execution_count": 168,
   "metadata": {},
   "outputs": [],
   "source": [
    "import xlsxwriter\n",
    "\n",
    "new_list = table3\n",
    "\n",
    "with xlsxwriter.Workbook('test3.xlsx') as workbook:\n",
    "    worksheet = workbook.add_worksheet()\n",
    "\n",
    "    for row_num, data in enumerate(new_list):\n",
    "        worksheet.write_row(row_num, 0, data)"
   ]
  }
 ],
 "metadata": {
  "kernelspec": {
   "display_name": "Python 3.9.0 64-bit",
   "language": "python",
   "name": "python3"
  },
  "language_info": {
   "codemirror_mode": {
    "name": "ipython",
    "version": 3
   },
   "file_extension": ".py",
   "mimetype": "text/x-python",
   "name": "python",
   "nbconvert_exporter": "python",
   "pygments_lexer": "ipython3",
   "version": "3.9.0"
  },
  "orig_nbformat": 4,
  "vscode": {
   "interpreter": {
    "hash": "aaee4e88c8713e583bc21b571e15121b26e77456b19712a4698a0a9b5e3320c0"
   }
  }
 },
 "nbformat": 4,
 "nbformat_minor": 2
}
