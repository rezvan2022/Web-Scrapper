{
 "cells": [
  {
   "cell_type": "code",
   "execution_count": 1,
   "metadata": {},
   "outputs": [],
   "source": [
    "from selenium import webdriver\n",
    "from webdriver_manager.chrome import ChromeDriverManager\n",
    "from selenium.webdriver.common.keys import Keys\n",
    "import time\n",
    "from selenium.webdriver.support.ui import Select\n",
    "from selenium.webdriver.common.action_chains import ActionChains\n",
    "from selenium.webdriver.common.by import By\n",
    "from selenium.webdriver.support import expected_conditions as EC\n",
    "\n",
    "\n",
    "\n"
   ]
  },
  {
   "cell_type": "code",
   "execution_count": 2,
   "metadata": {},
   "outputs": [
    {
     "name": "stderr",
     "output_type": "stream",
     "text": [
      "[WDM] - ====== WebDriver manager ======\n"
     ]
    },
    {
     "name": "stdout",
     "output_type": "stream",
     "text": [
      "\n"
     ]
    },
    {
     "name": "stderr",
     "output_type": "stream",
     "text": [
      "[WDM] - Current google-chrome version is 108.0.5359\n",
      "[WDM] - Get LATEST chromedriver version for 108.0.5359 google-chrome\n",
      "[WDM] - There is no [win32] chromedriver for browser 108.0.5359 in cache\n",
      "[WDM] - About to download new driver from https://chromedriver.storage.googleapis.com/108.0.5359.71/chromedriver_win32.zip\n",
      "[WDM] - Driver has been saved in cache [C:\\Users\\r.abdollahi\\.wdm\\drivers\\chromedriver\\win32\\108.0.5359.71]\n",
      "C:\\Users\\r.abdollahi\\AppData\\Local\\Temp\\ipykernel_6860\\3826619989.py:1: DeprecationWarning: executable_path has been deprecated, please pass in a Service object\n",
      "  brower = webdriver.Chrome(ChromeDriverManager().install())\n"
     ]
    }
   ],
   "source": [
    "brower = webdriver.Chrome(ChromeDriverManager().install())\n",
    "brower.get('https://github.com/wjbmattingly/freecodecamp_spacy/blob/main/data/stocks.tsv')"
   ]
  },
  {
   "cell_type": "code",
   "execution_count": 22,
   "metadata": {},
   "outputs": [
    {
     "name": "stderr",
     "output_type": "stream",
     "text": [
      "C:\\Users\\r.abdollahi\\AppData\\Local\\Temp\\ipykernel_6860\\1764542235.py:1: DeprecationWarning: find_elements_by_tag_name is deprecated. Please use find_elements(by=By.TAG_NAME, value=name) instead\n",
      "  main_table = brower.find_elements_by_tag_name('table')[0].get_attribute(\"innerText\").splitlines()\n"
     ]
    },
    {
     "data": {
      "text/plain": [
       "5880"
      ]
     },
     "execution_count": 22,
     "metadata": {},
     "output_type": "execute_result"
    }
   ],
   "source": [
    "main_table = brower.find_elements_by_tag_name('table')[0].get_attribute(\"innerText\").splitlines()\n",
    "#print(main_table)\n",
    "table3=['']*len(main_table)\n",
    "len(table3)\n",
    "\n",
    "\n",
    "\n"
   ]
  },
  {
   "cell_type": "code",
   "execution_count": 23,
   "metadata": {},
   "outputs": [],
   "source": [
    "for i in range(5880):\n",
    " table3[i]=main_table[i].split('\\t')\n",
    "#outer_table = main_table[3].find_element_by_tag_name('table')\n",
    "\n",
    "#table2=table1.splitlines()"
   ]
  },
  {
   "cell_type": "code",
   "execution_count": 25,
   "metadata": {},
   "outputs": [],
   "source": [
    "import xlsxwriter\n",
    "\n",
    "new_list = table3\n",
    "\n",
    "with xlsxwriter.Workbook('stocks.xlsx') as workbook:\n",
    "    worksheet = workbook.add_worksheet()\n",
    "\n",
    "    for row_num, data in enumerate(new_list):\n",
    "        worksheet.write_row(row_num, 0, data)"
   ]
  }
 ],
 "metadata": {
  "kernelspec": {
   "display_name": "Python 3.9.0 64-bit",
   "language": "python",
   "name": "python3"
  },
  "language_info": {
   "codemirror_mode": {
    "name": "ipython",
    "version": 3
   },
   "file_extension": ".py",
   "mimetype": "text/x-python",
   "name": "python",
   "nbconvert_exporter": "python",
   "pygments_lexer": "ipython3",
   "version": "3.9.0"
  },
  "orig_nbformat": 4,
  "vscode": {
   "interpreter": {
    "hash": "aaee4e88c8713e583bc21b571e15121b26e77456b19712a4698a0a9b5e3320c0"
   }
  }
 },
 "nbformat": 4,
 "nbformat_minor": 2
}
